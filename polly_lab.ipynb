{
 "cells": [
  {
   "cell_type": "markdown",
   "metadata": {
    "collapsed": true,
    "pycharm": {
     "name": "#%% md\n"
    }
   },
   "source": [
    "# Laboratorio de Amazon Polly\n",
    "\n",
    "En este laboratorio utilizaremos el servicio de Amazon Polly para realizar conversión de texto a habla."
   ]
  },
  {
   "cell_type": "code",
   "execution_count": null,
   "metadata": {
    "pycharm": {
     "name": "#%%\n"
    }
   },
   "outputs": [],
   "source": [
    "import boto3\n",
    "from IPython.display import Audio, display\n",
    "\n",
    "polly = boto3.client(\"polly\")\n",
    "language_code = 'es-MX'"
   ]
  },
  {
   "cell_type": "markdown",
   "metadata": {
    "pycharm": {
     "name": "#%% md\n"
    }
   },
   "source": [
    "En el siguiente fragmento de código definimos el texto que será utilizado por el servicio."
   ]
  },
  {
   "cell_type": "code",
   "execution_count": null,
   "metadata": {
    "pycharm": {
     "name": "#%%\n"
    }
   },
   "outputs": [],
   "source": [
    "to_speech = 'Érase una vez un leñador el cual un día se dio cuenta que no tenía su hacha. Sorprendido ' \\\n",
    "            'y con lágrimas en los ojos, se encontró cerca de su casa al vecino, quien como ' \\\n",
    "            'siempre lo hacía le saludó sonriente y amablemente.\\nMientras éste entraba en su ' \\\n",
    "            'casa, el leñador de repente empezó a sospechar y pensar que tal vez hubiese sido el ' \\\n",
    "            'vecino quien le había robado el hacha. De hecho, ahora que lo pensaba bien su ' \\\n",
    "            'sonrisa parecía nerviosa, tenía una mirada extraña e incluso hubiese dicho que le ' \\\n",
    "            'temblaban las manos. Bien pensado, el vecino tenía la misma expresión que un ' \\\n",
    "            'ladrón, caminaba como un ladrón y hablaba como un ladrón.\\nTodo ello iba pensando ' \\\n",
    "            'el leñador, cada vez más convencido de haber encontrado al culpable del hurto, ' \\\n",
    "            'cuando de repente se dió cuenta de que sus pasos le habían llevado de nuevo al ' \\\n",
    "            'bosque donde había estado la noche anterior.\\nDe pronto, tropezó con algo duro y ' \\\n",
    "            'cayó. Cuando miró al suelo...encontró su hacha! El leñador volvió de nuevo a su ' \\\n",
    "            'hogar con el hacha, arrepentido de sus sospechas, y cuando vio de nuevo a su ' \\\n",
    "            'vecino vio que su expresión, andar y manera de hablar eran (y habían sido en ' \\\n",
    "            'todo momento) las de siempre.'"
   ]
  },
  {
   "cell_type": "markdown",
   "metadata": {
    "pycharm": {
     "name": "#%% md\n"
    }
   },
   "source": [
    "Ahora procesaremos el texto utilizando Polly. Primero necesitamos obtener una voz adecuada dependiendo del idioma que utilizaremos (por defecto español mexicano)."
   ]
  },
  {
   "cell_type": "code",
   "execution_count": null,
   "metadata": {
    "pycharm": {
     "name": "#%%\n"
    }
   },
   "outputs": [],
   "source": [
    "response = polly.describe_voices(\n",
    "    LanguageCode=language_code\n",
    ")\n",
    "for voice in response['Voices']:\n",
    "    print('Genero: ' + voice['Gender'])\n",
    "    print('Id: ' + voice['Id'])"
   ]
  },
  {
   "cell_type": "markdown",
   "metadata": {
    "pycharm": {
     "name": "#%% md\n"
    }
   },
   "source": [
    "Con el identificador obtenido previamente ahora podemos sintetizar el habla."
   ]
  },
  {
   "cell_type": "code",
   "execution_count": null,
   "metadata": {
    "pycharm": {
     "name": "#%%\n"
    }
   },
   "outputs": [],
   "source": [
    "response = polly.synthesize_speech(\n",
    "    Engine='standard',\n",
    "    LanguageCode='es-MX',\n",
    "    OutputFormat='mp3',\n",
    "    SampleRate='22050',\n",
    "    Text=to_speech,\n",
    "    TextType='text',\n",
    "    VoiceId='Mia'\n",
    ")\n",
    "display(Audio(data=response['AudioStream'].read(), rate=22050))"
   ]
  }
 ],
 "metadata": {
  "kernelspec": {
   "display_name": "Python 3",
   "language": "python",
   "name": "python3"
  },
  "language_info": {
   "codemirror_mode": {
    "name": "ipython",
    "version": 3
   },
   "file_extension": ".py",
   "mimetype": "text/x-python",
   "name": "python",
   "nbconvert_exporter": "python",
   "pygments_lexer": "ipython3",
   "version": "3.9.5"
  }
 },
 "nbformat": 4,
 "nbformat_minor": 1
}
